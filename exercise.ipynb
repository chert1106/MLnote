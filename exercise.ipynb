{
 "cells": [
  {
   "cell_type": "markdown",
   "metadata": {},
   "source": [
    "# 快排"
   ]
  },
  {
   "cell_type": "code",
   "execution_count": 15,
   "metadata": {},
   "outputs": [
    {
     "name": "stdout",
     "output_type": "stream",
     "text": [
      "[0, 1, 2, 3, 4, 5, 6, 7, 9]\n",
      "[0, 1, 2, 3, 4, 5, 6, 7, 9]\n"
     ]
    }
   ],
   "source": [
    "def quick_sort(arr):\n",
    "    less = []\n",
    "    greater = []\n",
    "    \n",
    "    if len(arr) <= 1:\n",
    "        return arr\n",
    "    \n",
    "    p = arr.pop()\n",
    "    \n",
    "    for x in arr:\n",
    "        if x <= p:\n",
    "            less.append(x)\n",
    "        else:\n",
    "            greater.append(x)\n",
    "    \n",
    "    return quick_sort(less) + [p] + quick_sort(greater)\n",
    "\n",
    "def quick_sort2(arr, left, right):\n",
    "    if left < right:\n",
    "        p = partition(arr, left, right)\n",
    "        quick_sort2(arr, left, p - 1)\n",
    "        quick_sort2(arr, p + 1, right)\n",
    "\n",
    "def partition(arr, left, right):\n",
    "    x = arr[right]\n",
    "    i  = left - 1\n",
    "    for j in range(left, right):\n",
    "        if arr[j] <= x:\n",
    "            i += 1\n",
    "            arr[i], arr[j] = arr[j], arr[i]\n",
    "    arr[i+1], arr[right] = arr[right], arr[i+1]\n",
    "    return i + 1\n",
    "\n",
    "array1 = [3, 5, 6, 2, 1, 9, 4, 0, 7]\n",
    "array2 = [3, 5, 6, 2, 1, 9, 4, 0, 7]\n",
    "print(quick_sort(array1))\n",
    "quick_sort2(array2, 0, len(array2)-1)\n",
    "print(array2)"
   ]
  },
  {
   "cell_type": "markdown",
   "metadata": {},
   "source": [
    "# 动态规划"
   ]
  },
  {
   "cell_type": "code",
   "execution_count": 19,
   "metadata": {},
   "outputs": [
    {
     "data": {
      "text/plain": [
       "142511"
      ]
     },
     "execution_count": 19,
     "metadata": {},
     "output_type": "execute_result"
    }
   ],
   "source": [
    "arr = [5, 10, 25, 1]\n",
    "aim = 1000\n",
    "\n",
    "def sample_search(arr, aim):\n",
    "    if not arr or aim <= 0:\n",
    "        return 0\n",
    "    return process(arr, aim)\n",
    "\n",
    "def process(arr, aim):\n",
    "    if len(arr) == 1:\n",
    "        return (0, 1)[aim%arr[0] == 0]\n",
    "    \n",
    "    res = 0\n",
    "    n = aim // arr[0]\n",
    "    for i in range(n + 1):\n",
    "        res += process(arr[1:], aim - arr[0]*i)\n",
    "    return res\n",
    "\n",
    "sample_search(arr, aim)"
   ]
  },
  {
   "cell_type": "code",
   "execution_count": 30,
   "metadata": {},
   "outputs": [
    {
     "data": {
      "text/plain": [
       "142511"
      ]
     },
     "execution_count": 30,
     "metadata": {},
     "output_type": "execute_result"
    }
   ],
   "source": [
    "def dynamin_search(arr, aim):\n",
    "    if not arr or aim < 0:\n",
    "        return 0\n",
    "    n = len(arr)\n",
    "    dp = [[-1]*(aim + 1) for _ in range(n)]\n",
    "    for i in range(n):\n",
    "        dp[i][0] = 1\n",
    "    for j in range(aim + 1):\n",
    "        dp[0][j] = (0, 1)[j % arr[0] == 0]\n",
    "    for i in range(1, n):\n",
    "        for j in range(1, aim + 1):\n",
    "            if j - arr[i] >= 0:\n",
    "                dp[i][j] = dp[i-1][j] + dp[i][j-arr[i]]\n",
    "            else:\n",
    "                dp[i][j] = dp[i-1][j]\n",
    "    return dp[n-1][aim]                             \n",
    "\n",
    "dynamin_search(arr, aim)"
   ]
  },
  {
   "cell_type": "code",
   "execution_count": null,
   "metadata": {},
   "outputs": [],
   "source": [
    "def back_pack(w, v, cap):\n",
    "    if not w or v or cap <= 0:\n",
    "        return 0\n",
    "    assert len(w) == len(v)\n",
    "    n = len(w)\n",
    "    dp = [[0]*(cap + 1) for _ in range(n)]\n",
    "    for i in range(n):\n",
    "        dp[n][0] = 0\n",
    "    for i in range(cap+1):\n",
    "        dp[0][i] = "
   ]
  }
 ],
 "metadata": {
  "kernelspec": {
   "display_name": "Python 3",
   "language": "python",
   "name": "python3"
  },
  "language_info": {
   "codemirror_mode": {
    "name": "ipython",
    "version": 3
   },
   "file_extension": ".py",
   "mimetype": "text/x-python",
   "name": "python",
   "nbconvert_exporter": "python",
   "pygments_lexer": "ipython3",
   "version": "3.6.4"
  }
 },
 "nbformat": 4,
 "nbformat_minor": 2
}
